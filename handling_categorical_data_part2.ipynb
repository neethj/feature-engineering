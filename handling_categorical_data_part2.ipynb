{
  "nbformat": 4,
  "nbformat_minor": 0,
  "metadata": {
    "colab": {
      "name": "handling_categorical_data_part2.ipynb",
      "provenance": [],
      "authorship_tag": "ABX9TyPpnCKDxLrtcLGmeRTsR7R0",
      "include_colab_link": true
    },
    "kernelspec": {
      "name": "python3",
      "display_name": "Python 3"
    },
    "language_info": {
      "name": "python"
    }
  },
  "cells": [
    {
      "cell_type": "markdown",
      "metadata": {
        "id": "view-in-github",
        "colab_type": "text"
      },
      "source": [
        "<a href=\"https://colab.research.google.com/github/neethj/feature-engineering/blob/main/handling_categorical_data_part2.ipynb\" target=\"_parent\"><img src=\"https://colab.research.google.com/assets/colab-badge.svg\" alt=\"Open In Colab\"/></a>"
      ]
    },
    {
      "cell_type": "markdown",
      "metadata": {
        "id": "dzfKDjl1WUSf"
      },
      "source": [
        "\n",
        "##ordinal number encoding\n",
        "\n",
        "\n"
      ]
    },
    {
      "cell_type": "markdown",
      "metadata": {
        "id": "1KKIlG9RXXrB"
      },
      "source": [
        "In ordinal encoding, each unique category value is assigned an integer value. For example, “red” is 1, “green” is 2, and “blue” is 3"
      ]
    },
    {
      "cell_type": "code",
      "metadata": {
        "id": "gn0G3bZDKJZD"
      },
      "source": [
        "import datetime"
      ],
      "execution_count": null,
      "outputs": []
    },
    {
      "cell_type": "code",
      "metadata": {
        "colab": {
          "base_uri": "https://localhost:8080/"
        },
        "id": "Nru3_J6iZj9U",
        "outputId": "a0878ca9-4464-45cb-c512-c20d97c1f070"
      },
      "source": [
        "datetime.datetime.today()"
      ],
      "execution_count": null,
      "outputs": [
        {
          "output_type": "execute_result",
          "data": {
            "text/plain": [
              "datetime.datetime(2021, 11, 16, 6, 19, 14, 440148)"
            ]
          },
          "metadata": {},
          "execution_count": 7
        }
      ]
    },
    {
      "cell_type": "code",
      "metadata": {
        "id": "c8Fr_AXSXgjR"
      },
      "source": [
        "todaydate = datetime.datetime.today()"
      ],
      "execution_count": null,
      "outputs": []
    },
    {
      "cell_type": "code",
      "metadata": {
        "colab": {
          "base_uri": "https://localhost:8080/"
        },
        "id": "rrdKpyEaZlar",
        "outputId": "ed4af4e4-496b-4a28-b9aa-3e0dc3fab653"
      },
      "source": [
        "#date is reduced by 2 days before\n",
        "todaydate-datetime.timedelta(2)"
      ],
      "execution_count": null,
      "outputs": [
        {
          "output_type": "execute_result",
          "data": {
            "text/plain": [
              "datetime.datetime(2021, 11, 14, 6, 18, 59, 589143)"
            ]
          },
          "metadata": {},
          "execution_count": 10
        }
      ]
    },
    {
      "cell_type": "code",
      "metadata": {
        "id": "slJgyaidZ45a"
      },
      "source": [
        "## so what we want to do is to create data for date of 15 days,\n",
        "##list comprehension\n",
        "dates = [todaydate-datetime.timedelta(x) for x in range(15)]"
      ],
      "execution_count": null,
      "outputs": []
    },
    {
      "cell_type": "code",
      "metadata": {
        "id": "PEQNWD_BbxRW"
      },
      "source": [
        "import numpy as np\n",
        "import pandas as pd\n",
        "data = pd.DataFrame(dates)"
      ],
      "execution_count": null,
      "outputs": []
    },
    {
      "cell_type": "code",
      "metadata": {
        "id": "LuZ3yiiwcAE3"
      },
      "source": [
        "data.columns = [\"Day\"]"
      ],
      "execution_count": null,
      "outputs": []
    },
    {
      "cell_type": "code",
      "metadata": {
        "colab": {
          "base_uri": "https://localhost:8080/",
          "height": 204
        },
        "id": "NdPsLB6-cLOq",
        "outputId": "c6209f92-13d8-40a4-c0a3-a8487bab9500"
      },
      "source": [
        "data.head()"
      ],
      "execution_count": null,
      "outputs": [
        {
          "output_type": "execute_result",
          "data": {
            "text/html": [
              "<div>\n",
              "<style scoped>\n",
              "    .dataframe tbody tr th:only-of-type {\n",
              "        vertical-align: middle;\n",
              "    }\n",
              "\n",
              "    .dataframe tbody tr th {\n",
              "        vertical-align: top;\n",
              "    }\n",
              "\n",
              "    .dataframe thead th {\n",
              "        text-align: right;\n",
              "    }\n",
              "</style>\n",
              "<table border=\"1\" class=\"dataframe\">\n",
              "  <thead>\n",
              "    <tr style=\"text-align: right;\">\n",
              "      <th></th>\n",
              "      <th>Day</th>\n",
              "    </tr>\n",
              "  </thead>\n",
              "  <tbody>\n",
              "    <tr>\n",
              "      <th>0</th>\n",
              "      <td>2021-11-16 06:18:59.589143</td>\n",
              "    </tr>\n",
              "    <tr>\n",
              "      <th>1</th>\n",
              "      <td>2021-11-15 06:18:59.589143</td>\n",
              "    </tr>\n",
              "    <tr>\n",
              "      <th>2</th>\n",
              "      <td>2021-11-14 06:18:59.589143</td>\n",
              "    </tr>\n",
              "    <tr>\n",
              "      <th>3</th>\n",
              "      <td>2021-11-13 06:18:59.589143</td>\n",
              "    </tr>\n",
              "    <tr>\n",
              "      <th>4</th>\n",
              "      <td>2021-11-12 06:18:59.589143</td>\n",
              "    </tr>\n",
              "  </tbody>\n",
              "</table>\n",
              "</div>"
            ],
            "text/plain": [
              "                         Day\n",
              "0 2021-11-16 06:18:59.589143\n",
              "1 2021-11-15 06:18:59.589143\n",
              "2 2021-11-14 06:18:59.589143\n",
              "3 2021-11-13 06:18:59.589143\n",
              "4 2021-11-12 06:18:59.589143"
            ]
          },
          "metadata": {},
          "execution_count": 30
        }
      ]
    },
    {
      "cell_type": "code",
      "metadata": {
        "id": "yAGiM_xPcV7d"
      },
      "source": [
        "data['weekday']=data['Day'].dt.day_name()"
      ],
      "execution_count": null,
      "outputs": []
    },
    {
      "cell_type": "code",
      "metadata": {
        "colab": {
          "base_uri": "https://localhost:8080/",
          "height": 204
        },
        "id": "84XHnJ_egUxg",
        "outputId": "781e0c53-c141-4efd-e94e-279f2c9004c0"
      },
      "source": [
        "data.head()"
      ],
      "execution_count": null,
      "outputs": [
        {
          "output_type": "execute_result",
          "data": {
            "text/html": [
              "<div>\n",
              "<style scoped>\n",
              "    .dataframe tbody tr th:only-of-type {\n",
              "        vertical-align: middle;\n",
              "    }\n",
              "\n",
              "    .dataframe tbody tr th {\n",
              "        vertical-align: top;\n",
              "    }\n",
              "\n",
              "    .dataframe thead th {\n",
              "        text-align: right;\n",
              "    }\n",
              "</style>\n",
              "<table border=\"1\" class=\"dataframe\">\n",
              "  <thead>\n",
              "    <tr style=\"text-align: right;\">\n",
              "      <th></th>\n",
              "      <th>Day</th>\n",
              "      <th>weekday</th>\n",
              "    </tr>\n",
              "  </thead>\n",
              "  <tbody>\n",
              "    <tr>\n",
              "      <th>0</th>\n",
              "      <td>2021-11-16 06:18:59.589143</td>\n",
              "      <td>Tuesday</td>\n",
              "    </tr>\n",
              "    <tr>\n",
              "      <th>1</th>\n",
              "      <td>2021-11-15 06:18:59.589143</td>\n",
              "      <td>Monday</td>\n",
              "    </tr>\n",
              "    <tr>\n",
              "      <th>2</th>\n",
              "      <td>2021-11-14 06:18:59.589143</td>\n",
              "      <td>Sunday</td>\n",
              "    </tr>\n",
              "    <tr>\n",
              "      <th>3</th>\n",
              "      <td>2021-11-13 06:18:59.589143</td>\n",
              "      <td>Saturday</td>\n",
              "    </tr>\n",
              "    <tr>\n",
              "      <th>4</th>\n",
              "      <td>2021-11-12 06:18:59.589143</td>\n",
              "      <td>Friday</td>\n",
              "    </tr>\n",
              "  </tbody>\n",
              "</table>\n",
              "</div>"
            ],
            "text/plain": [
              "                         Day   weekday\n",
              "0 2021-11-16 06:18:59.589143   Tuesday\n",
              "1 2021-11-15 06:18:59.589143    Monday\n",
              "2 2021-11-14 06:18:59.589143    Sunday\n",
              "3 2021-11-13 06:18:59.589143  Saturday\n",
              "4 2021-11-12 06:18:59.589143    Friday"
            ]
          },
          "metadata": {},
          "execution_count": 42
        }
      ]
    },
    {
      "cell_type": "code",
      "metadata": {
        "id": "OQzqoHJ0ki-_"
      },
      "source": [
        "dictionary = {'Monday':1,'Tuesday':2,'Wednesday':3,'Thursday':4,'Friday':5,'Saturday':6,'Sunday':7}"
      ],
      "execution_count": null,
      "outputs": []
    },
    {
      "cell_type": "code",
      "metadata": {
        "id": "h9EYFAGKli6T"
      },
      "source": [
        "data[\"Date_ordinal\"]=data['weekday'].map(dictionary)"
      ],
      "execution_count": null,
      "outputs": []
    },
    {
      "cell_type": "code",
      "metadata": {
        "colab": {
          "base_uri": "https://localhost:8080/",
          "height": 204
        },
        "id": "izEUSibYmGbd",
        "outputId": "d920556a-6f61-4205-995f-7f0a53cb4685"
      },
      "source": [
        "data.head()"
      ],
      "execution_count": null,
      "outputs": [
        {
          "output_type": "execute_result",
          "data": {
            "text/html": [
              "<div>\n",
              "<style scoped>\n",
              "    .dataframe tbody tr th:only-of-type {\n",
              "        vertical-align: middle;\n",
              "    }\n",
              "\n",
              "    .dataframe tbody tr th {\n",
              "        vertical-align: top;\n",
              "    }\n",
              "\n",
              "    .dataframe thead th {\n",
              "        text-align: right;\n",
              "    }\n",
              "</style>\n",
              "<table border=\"1\" class=\"dataframe\">\n",
              "  <thead>\n",
              "    <tr style=\"text-align: right;\">\n",
              "      <th></th>\n",
              "      <th>Day</th>\n",
              "      <th>weekday</th>\n",
              "      <th>Date_ordinal</th>\n",
              "    </tr>\n",
              "  </thead>\n",
              "  <tbody>\n",
              "    <tr>\n",
              "      <th>0</th>\n",
              "      <td>2021-11-16 06:18:59.589143</td>\n",
              "      <td>Tuesday</td>\n",
              "      <td>2</td>\n",
              "    </tr>\n",
              "    <tr>\n",
              "      <th>1</th>\n",
              "      <td>2021-11-15 06:18:59.589143</td>\n",
              "      <td>Monday</td>\n",
              "      <td>1</td>\n",
              "    </tr>\n",
              "    <tr>\n",
              "      <th>2</th>\n",
              "      <td>2021-11-14 06:18:59.589143</td>\n",
              "      <td>Sunday</td>\n",
              "      <td>7</td>\n",
              "    </tr>\n",
              "    <tr>\n",
              "      <th>3</th>\n",
              "      <td>2021-11-13 06:18:59.589143</td>\n",
              "      <td>Saturday</td>\n",
              "      <td>6</td>\n",
              "    </tr>\n",
              "    <tr>\n",
              "      <th>4</th>\n",
              "      <td>2021-11-12 06:18:59.589143</td>\n",
              "      <td>Friday</td>\n",
              "      <td>5</td>\n",
              "    </tr>\n",
              "  </tbody>\n",
              "</table>\n",
              "</div>"
            ],
            "text/plain": [
              "                         Day   weekday  Date_ordinal\n",
              "0 2021-11-16 06:18:59.589143   Tuesday             2\n",
              "1 2021-11-15 06:18:59.589143    Monday             1\n",
              "2 2021-11-14 06:18:59.589143    Sunday             7\n",
              "3 2021-11-13 06:18:59.589143  Saturday             6\n",
              "4 2021-11-12 06:18:59.589143    Friday             5"
            ]
          },
          "metadata": {},
          "execution_count": 49
        }
      ]
    },
    {
      "cell_type": "markdown",
      "metadata": {
        "id": "_ZqdpkB2MWXt"
      },
      "source": [
        "## count or frequency encoding"
      ]
    },
    {
      "cell_type": "code",
      "metadata": {
        "colab": {
          "base_uri": "https://localhost:8080/"
        },
        "id": "mcKkfuizMZXd",
        "outputId": "bb336f77-3671-4d26-b90f-96c03ce508fc"
      },
      "source": [
        "from google.colab import drive\n",
        "drive.mount('/content/gdrive')"
      ],
      "execution_count": 3,
      "outputs": [
        {
          "output_type": "stream",
          "name": "stdout",
          "text": [
            "Mounted at /content/gdrive\n"
          ]
        }
      ]
    },
    {
      "cell_type": "code",
      "metadata": {
        "id": "FPDSDXnaRf_a"
      },
      "source": [
        "import numpy as np\n",
        "import pandas as pd"
      ],
      "execution_count": 2,
      "outputs": []
    },
    {
      "cell_type": "code",
      "metadata": {
        "id": "BS907wtJRlQI"
      },
      "source": [
        "df = pd.read_excel(\"/content/gdrive/MyDrive/kaggle/Athletes.xlsx\")"
      ],
      "execution_count": null,
      "outputs": []
    },
    {
      "cell_type": "code",
      "metadata": {
        "colab": {
          "base_uri": "https://localhost:8080/",
          "height": 204
        },
        "id": "YDBSh4FERzhK",
        "outputId": "c6bff822-5a08-4314-b49c-6b60e28f2697"
      },
      "source": [
        "df.head()"
      ],
      "execution_count": null,
      "outputs": [
        {
          "output_type": "execute_result",
          "data": {
            "text/html": [
              "<div>\n",
              "<style scoped>\n",
              "    .dataframe tbody tr th:only-of-type {\n",
              "        vertical-align: middle;\n",
              "    }\n",
              "\n",
              "    .dataframe tbody tr th {\n",
              "        vertical-align: top;\n",
              "    }\n",
              "\n",
              "    .dataframe thead th {\n",
              "        text-align: right;\n",
              "    }\n",
              "</style>\n",
              "<table border=\"1\" class=\"dataframe\">\n",
              "  <thead>\n",
              "    <tr style=\"text-align: right;\">\n",
              "      <th></th>\n",
              "      <th>Name</th>\n",
              "      <th>NOC</th>\n",
              "      <th>Discipline</th>\n",
              "    </tr>\n",
              "  </thead>\n",
              "  <tbody>\n",
              "    <tr>\n",
              "      <th>0</th>\n",
              "      <td>AALERUD Katrine</td>\n",
              "      <td>Norway</td>\n",
              "      <td>Cycling Road</td>\n",
              "    </tr>\n",
              "    <tr>\n",
              "      <th>1</th>\n",
              "      <td>ABAD Nestor</td>\n",
              "      <td>Spain</td>\n",
              "      <td>Artistic Gymnastics</td>\n",
              "    </tr>\n",
              "    <tr>\n",
              "      <th>2</th>\n",
              "      <td>ABAGNALE Giovanni</td>\n",
              "      <td>Italy</td>\n",
              "      <td>Rowing</td>\n",
              "    </tr>\n",
              "    <tr>\n",
              "      <th>3</th>\n",
              "      <td>ABALDE Alberto</td>\n",
              "      <td>Spain</td>\n",
              "      <td>Basketball</td>\n",
              "    </tr>\n",
              "    <tr>\n",
              "      <th>4</th>\n",
              "      <td>ABALDE Tamara</td>\n",
              "      <td>Spain</td>\n",
              "      <td>Basketball</td>\n",
              "    </tr>\n",
              "  </tbody>\n",
              "</table>\n",
              "</div>"
            ],
            "text/plain": [
              "                Name     NOC           Discipline\n",
              "0    AALERUD Katrine  Norway         Cycling Road\n",
              "1        ABAD Nestor   Spain  Artistic Gymnastics\n",
              "2  ABAGNALE Giovanni   Italy               Rowing\n",
              "3     ABALDE Alberto   Spain           Basketball\n",
              "4      ABALDE Tamara   Spain           Basketball"
            ]
          },
          "metadata": {},
          "execution_count": 5
        }
      ]
    },
    {
      "cell_type": "code",
      "metadata": {
        "colab": {
          "base_uri": "https://localhost:8080/"
        },
        "id": "AptserbaR3to",
        "outputId": "5cd57e90-c817-4345-8d83-8fd56e466368"
      },
      "source": [
        "df[\"NOC\"].value_counts()"
      ],
      "execution_count": null,
      "outputs": [
        {
          "output_type": "execute_result",
          "data": {
            "text/plain": [
              "United States of America         615\n",
              "Japan                            586\n",
              "Australia                        470\n",
              "People's Republic of China       401\n",
              "Germany                          400\n",
              "                                ... \n",
              "St Vincent and the Grenadines      2\n",
              "Nauru                              2\n",
              "Dominica                           2\n",
              "Lesotho                            2\n",
              "United Republic of Tanzania        2\n",
              "Name: NOC, Length: 206, dtype: int64"
            ]
          },
          "metadata": {},
          "execution_count": 6
        }
      ]
    },
    {
      "cell_type": "code",
      "metadata": {
        "colab": {
          "base_uri": "https://localhost:8080/"
        },
        "id": "kkGlfwjkX65M",
        "outputId": "22375283-698e-43ba-fc98-6062c731043e"
      },
      "source": [
        "country_map = df[\"NOC\"].value_counts().to_dict()\n",
        "country_map"
      ],
      "execution_count": null,
      "outputs": [
        {
          "output_type": "execute_result",
          "data": {
            "text/plain": [
              "{'Afghanistan': 5,\n",
              " 'Albania': 8,\n",
              " 'Algeria': 41,\n",
              " 'American Samoa': 5,\n",
              " 'Andorra': 2,\n",
              " 'Angola': 20,\n",
              " 'Antigua and Barbuda': 6,\n",
              " 'Argentina': 180,\n",
              " 'Armenia': 16,\n",
              " 'Aruba': 3,\n",
              " 'Australia': 470,\n",
              " 'Austria': 72,\n",
              " 'Azerbaijan': 41,\n",
              " 'Bahamas': 16,\n",
              " 'Bahrain': 31,\n",
              " 'Bangladesh': 6,\n",
              " 'Barbados': 7,\n",
              " 'Belarus': 104,\n",
              " 'Belgium': 125,\n",
              " 'Belize': 3,\n",
              " 'Benin': 7,\n",
              " 'Bermuda': 2,\n",
              " 'Bhutan': 3,\n",
              " 'Bolivia': 5,\n",
              " 'Bosnia and Herzegovina': 7,\n",
              " 'Botswana': 13,\n",
              " 'Brazil': 291,\n",
              " 'Brunei Darussalam': 2,\n",
              " 'Bulgaria': 41,\n",
              " 'Burkina Faso': 7,\n",
              " 'Burundi': 6,\n",
              " 'Cambodia': 3,\n",
              " 'Cameroon': 11,\n",
              " 'Canada': 368,\n",
              " 'Cape Verde': 6,\n",
              " 'Cayman Islands': 5,\n",
              " 'Central African Republic': 2,\n",
              " 'Chad': 3,\n",
              " 'Chile': 56,\n",
              " 'Chinese Taipei': 67,\n",
              " 'Colombia': 64,\n",
              " 'Comoros': 3,\n",
              " 'Congo': 3,\n",
              " 'Cook Islands': 6,\n",
              " 'Costa Rica': 13,\n",
              " 'Croatia': 57,\n",
              " 'Cuba': 69,\n",
              " 'Cyprus': 14,\n",
              " 'Czech Republic': 117,\n",
              " \"Côte d'Ivoire\": 29,\n",
              " 'Democratic Republic of Timor-Leste': 3,\n",
              " 'Democratic Republic of the Congo': 7,\n",
              " 'Denmark': 103,\n",
              " 'Djibouti': 4,\n",
              " 'Dominica': 2,\n",
              " 'Dominican Republic': 61,\n",
              " 'Ecuador': 46,\n",
              " 'Egypt': 133,\n",
              " 'El Salvador': 5,\n",
              " 'Equatorial Guinea': 3,\n",
              " 'Eritrea': 13,\n",
              " 'Estonia': 33,\n",
              " 'Eswatini': 4,\n",
              " 'Ethiopia': 42,\n",
              " 'Federated States of Micronesia': 3,\n",
              " 'Fiji': 28,\n",
              " 'Finland': 45,\n",
              " 'France': 377,\n",
              " 'Gabon': 5,\n",
              " 'Gambia': 3,\n",
              " 'Georgia': 35,\n",
              " 'Germany': 400,\n",
              " 'Ghana': 14,\n",
              " 'Great Britain': 366,\n",
              " 'Greece': 75,\n",
              " 'Grenada': 6,\n",
              " 'Guam': 5,\n",
              " 'Guatemala': 22,\n",
              " 'Guinea': 5,\n",
              " 'Guinea-Bissau': 4,\n",
              " 'Guyana': 7,\n",
              " 'Haiti': 6,\n",
              " 'Honduras': 25,\n",
              " 'Hong Kong, China': 40,\n",
              " 'Hungary': 155,\n",
              " 'Iceland': 4,\n",
              " 'India': 117,\n",
              " 'Indonesia': 26,\n",
              " 'Iraq': 4,\n",
              " 'Ireland': 116,\n",
              " 'Islamic Republic of Iran': 66,\n",
              " 'Israel': 85,\n",
              " 'Italy': 356,\n",
              " 'Jamaica': 60,\n",
              " 'Japan': 586,\n",
              " 'Jordan': 11,\n",
              " 'Kazakhstan': 92,\n",
              " 'Kenya': 78,\n",
              " 'Kiribati': 3,\n",
              " 'Kosovo': 10,\n",
              " 'Kuwait': 10,\n",
              " 'Kyrgyzstan': 16,\n",
              " \"Lao People's Democratic Republic\": 4,\n",
              " 'Latvia': 29,\n",
              " 'Lebanon': 6,\n",
              " 'Lesotho': 2,\n",
              " 'Liberia': 3,\n",
              " 'Libya': 4,\n",
              " 'Liechtenstein': 5,\n",
              " 'Lithuania': 37,\n",
              " 'Luxembourg': 11,\n",
              " 'Madagascar': 6,\n",
              " 'Malawi': 5,\n",
              " 'Malaysia': 29,\n",
              " 'Maldives': 4,\n",
              " 'Mali': 4,\n",
              " 'Malta': 6,\n",
              " 'Marshall Islands': 2,\n",
              " 'Mauritania': 2,\n",
              " 'Mauritius': 7,\n",
              " 'Mexico': 155,\n",
              " 'Monaco': 6,\n",
              " 'Mongolia': 43,\n",
              " 'Montenegro': 35,\n",
              " 'Morocco': 48,\n",
              " 'Mozambique': 8,\n",
              " 'Myanmar': 2,\n",
              " 'Namibia': 11,\n",
              " 'Nauru': 2,\n",
              " 'Nepal': 5,\n",
              " 'Netherlands': 274,\n",
              " 'New Zealand': 202,\n",
              " 'Nicaragua': 8,\n",
              " 'Niger': 7,\n",
              " 'Nigeria': 59,\n",
              " 'North Macedonia': 8,\n",
              " 'Norway': 92,\n",
              " 'Oman': 5,\n",
              " 'Pakistan': 10,\n",
              " 'Palau': 3,\n",
              " 'Palestine': 4,\n",
              " 'Panama': 9,\n",
              " 'Papua New Guinea': 7,\n",
              " 'Paraguay': 8,\n",
              " \"People's Republic of China\": 401,\n",
              " 'Peru': 33,\n",
              " 'Philippines': 18,\n",
              " 'Poland': 195,\n",
              " 'Portugal': 85,\n",
              " 'Puerto Rico': 35,\n",
              " 'Qatar': 14,\n",
              " 'ROC': 318,\n",
              " 'Refugee Olympic Team': 26,\n",
              " 'Republic of Korea': 223,\n",
              " 'Republic of Moldova': 19,\n",
              " 'Romania': 99,\n",
              " 'Rwanda': 5,\n",
              " 'Saint Kitts and Nevis': 2,\n",
              " 'Saint Lucia': 5,\n",
              " 'Samoa': 8,\n",
              " 'San Marino': 4,\n",
              " 'Sao Tome and Principe': 3,\n",
              " 'Saudi Arabia': 32,\n",
              " 'Senegal': 9,\n",
              " 'Serbia': 83,\n",
              " 'Seychelles': 5,\n",
              " 'Sierra Leone': 4,\n",
              " 'Singapore': 23,\n",
              " 'Slovakia': 38,\n",
              " 'Slovenia': 51,\n",
              " 'Solomon Islands': 3,\n",
              " 'Somalia': 2,\n",
              " 'South Africa': 171,\n",
              " 'South Sudan': 2,\n",
              " 'Spain': 324,\n",
              " 'Sri Lanka': 9,\n",
              " 'St Vincent and the Grenadines': 2,\n",
              " 'Sudan': 5,\n",
              " 'Suriname': 3,\n",
              " 'Sweden': 129,\n",
              " 'Switzerland': 115,\n",
              " 'Syrian Arab Republic': 6,\n",
              " 'Tajikistan': 8,\n",
              " 'Thailand': 39,\n",
              " 'Togo': 4,\n",
              " 'Tonga': 5,\n",
              " 'Trinidad and Tobago': 31,\n",
              " 'Tunisia': 57,\n",
              " 'Turkey': 102,\n",
              " 'Turkmenistan': 8,\n",
              " 'Tuvalu': 2,\n",
              " 'Uganda': 24,\n",
              " 'Ukraine': 152,\n",
              " 'United Arab Emirates': 4,\n",
              " 'United Republic of Tanzania': 2,\n",
              " 'United States of America': 615,\n",
              " 'Uruguay': 11,\n",
              " 'Uzbekistan': 63,\n",
              " 'Vanuatu': 2,\n",
              " 'Venezuela': 43,\n",
              " 'Vietnam': 17,\n",
              " 'Virgin Islands, British': 3,\n",
              " 'Virgin Islands, US': 4,\n",
              " 'Yemen': 3,\n",
              " 'Zambia': 29,\n",
              " 'Zimbabwe': 5}"
            ]
          },
          "metadata": {},
          "execution_count": 8
        }
      ]
    },
    {
      "cell_type": "markdown",
      "metadata": {
        "id": "_4eFJn3XxL_K"
      },
      "source": [
        "here in this scenario it doesnt make sense to replace the country name with the number but this can be used in some situations, just know the method .\n",
        "HERE OUR MAIN OBJECTIVE was to convert the NOC into integer values, that is what is meant by handling categorical data"
      ]
    },
    {
      "cell_type": "code",
      "metadata": {
        "id": "3lG6kOgDxLsa"
      },
      "source": [
        "df[\"NOC\"] = df[\"NOC\"].map(country_map)"
      ],
      "execution_count": null,
      "outputs": []
    },
    {
      "cell_type": "code",
      "metadata": {
        "colab": {
          "base_uri": "https://localhost:8080/",
          "height": 359
        },
        "id": "9pYmshHdxnXb",
        "outputId": "079f7be9-5db1-49a6-d6a0-0429089fb602"
      },
      "source": [
        "df.head(10)"
      ],
      "execution_count": null,
      "outputs": [
        {
          "output_type": "execute_result",
          "data": {
            "text/html": [
              "<div>\n",
              "<style scoped>\n",
              "    .dataframe tbody tr th:only-of-type {\n",
              "        vertical-align: middle;\n",
              "    }\n",
              "\n",
              "    .dataframe tbody tr th {\n",
              "        vertical-align: top;\n",
              "    }\n",
              "\n",
              "    .dataframe thead th {\n",
              "        text-align: right;\n",
              "    }\n",
              "</style>\n",
              "<table border=\"1\" class=\"dataframe\">\n",
              "  <thead>\n",
              "    <tr style=\"text-align: right;\">\n",
              "      <th></th>\n",
              "      <th>Name</th>\n",
              "      <th>NOC</th>\n",
              "      <th>Discipline</th>\n",
              "    </tr>\n",
              "  </thead>\n",
              "  <tbody>\n",
              "    <tr>\n",
              "      <th>0</th>\n",
              "      <td>AALERUD Katrine</td>\n",
              "      <td>92</td>\n",
              "      <td>Cycling Road</td>\n",
              "    </tr>\n",
              "    <tr>\n",
              "      <th>1</th>\n",
              "      <td>ABAD Nestor</td>\n",
              "      <td>324</td>\n",
              "      <td>Artistic Gymnastics</td>\n",
              "    </tr>\n",
              "    <tr>\n",
              "      <th>2</th>\n",
              "      <td>ABAGNALE Giovanni</td>\n",
              "      <td>356</td>\n",
              "      <td>Rowing</td>\n",
              "    </tr>\n",
              "    <tr>\n",
              "      <th>3</th>\n",
              "      <td>ABALDE Alberto</td>\n",
              "      <td>324</td>\n",
              "      <td>Basketball</td>\n",
              "    </tr>\n",
              "    <tr>\n",
              "      <th>4</th>\n",
              "      <td>ABALDE Tamara</td>\n",
              "      <td>324</td>\n",
              "      <td>Basketball</td>\n",
              "    </tr>\n",
              "    <tr>\n",
              "      <th>5</th>\n",
              "      <td>ABALO Luc</td>\n",
              "      <td>377</td>\n",
              "      <td>Handball</td>\n",
              "    </tr>\n",
              "    <tr>\n",
              "      <th>6</th>\n",
              "      <td>ABAROA Cesar</td>\n",
              "      <td>56</td>\n",
              "      <td>Rowing</td>\n",
              "    </tr>\n",
              "    <tr>\n",
              "      <th>7</th>\n",
              "      <td>ABASS Abobakr</td>\n",
              "      <td>5</td>\n",
              "      <td>Swimming</td>\n",
              "    </tr>\n",
              "    <tr>\n",
              "      <th>8</th>\n",
              "      <td>ABBASALI Hamideh</td>\n",
              "      <td>66</td>\n",
              "      <td>Karate</td>\n",
              "    </tr>\n",
              "    <tr>\n",
              "      <th>9</th>\n",
              "      <td>ABBASOV Islam</td>\n",
              "      <td>41</td>\n",
              "      <td>Wrestling</td>\n",
              "    </tr>\n",
              "  </tbody>\n",
              "</table>\n",
              "</div>"
            ],
            "text/plain": [
              "                Name  NOC           Discipline\n",
              "0    AALERUD Katrine   92         Cycling Road\n",
              "1        ABAD Nestor  324  Artistic Gymnastics\n",
              "2  ABAGNALE Giovanni  356               Rowing\n",
              "3     ABALDE Alberto  324           Basketball\n",
              "4      ABALDE Tamara  324           Basketball\n",
              "5          ABALO Luc  377             Handball\n",
              "6       ABAROA Cesar   56               Rowing\n",
              "7      ABASS Abobakr    5             Swimming\n",
              "8   ABBASALI Hamideh   66               Karate\n",
              "9      ABBASOV Islam   41            Wrestling"
            ]
          },
          "metadata": {},
          "execution_count": 11
        }
      ]
    },
    {
      "cell_type": "markdown",
      "metadata": {
        "id": "pJhXiwAux25D"
      },
      "source": [
        "#### Advantages\n",
        "Easy To Use\n",
        "Not increasing feature space \n",
        "##### Disadvantages\n",
        "It will provide same weight if the frequencies are same"
      ]
    },
    {
      "cell_type": "markdown",
      "metadata": {
        "id": "StGds0Hv0wqx"
      },
      "source": [
        "## target guideded ordinal encoding\n",
        "1. ordering labels according to target\n",
        "2. we may replace the labels by the joint probablility of being 1 or 0"
      ]
    },
    {
      "cell_type": "code",
      "metadata": {
        "id": "S-XQUhgRx6Ql"
      },
      "source": [
        "df = pd.read_csv(\"/content/gdrive/MyDrive/kaggle/titanic.zip (Unzipped Files)/train.csv\", usecols=[\"Survived\",\"Cabin\"])"
      ],
      "execution_count": 5,
      "outputs": []
    },
    {
      "cell_type": "code",
      "metadata": {
        "colab": {
          "base_uri": "https://localhost:8080/",
          "height": 204
        },
        "id": "BKzHEJXg38ab",
        "outputId": "3dff3eca-797a-4f12-b3eb-3813f232db67"
      },
      "source": [
        "df.head()"
      ],
      "execution_count": 6,
      "outputs": [
        {
          "output_type": "execute_result",
          "data": {
            "text/html": [
              "<div>\n",
              "<style scoped>\n",
              "    .dataframe tbody tr th:only-of-type {\n",
              "        vertical-align: middle;\n",
              "    }\n",
              "\n",
              "    .dataframe tbody tr th {\n",
              "        vertical-align: top;\n",
              "    }\n",
              "\n",
              "    .dataframe thead th {\n",
              "        text-align: right;\n",
              "    }\n",
              "</style>\n",
              "<table border=\"1\" class=\"dataframe\">\n",
              "  <thead>\n",
              "    <tr style=\"text-align: right;\">\n",
              "      <th></th>\n",
              "      <th>Survived</th>\n",
              "      <th>Cabin</th>\n",
              "    </tr>\n",
              "  </thead>\n",
              "  <tbody>\n",
              "    <tr>\n",
              "      <th>0</th>\n",
              "      <td>0</td>\n",
              "      <td>NaN</td>\n",
              "    </tr>\n",
              "    <tr>\n",
              "      <th>1</th>\n",
              "      <td>1</td>\n",
              "      <td>C85</td>\n",
              "    </tr>\n",
              "    <tr>\n",
              "      <th>2</th>\n",
              "      <td>1</td>\n",
              "      <td>NaN</td>\n",
              "    </tr>\n",
              "    <tr>\n",
              "      <th>3</th>\n",
              "      <td>1</td>\n",
              "      <td>C123</td>\n",
              "    </tr>\n",
              "    <tr>\n",
              "      <th>4</th>\n",
              "      <td>0</td>\n",
              "      <td>NaN</td>\n",
              "    </tr>\n",
              "  </tbody>\n",
              "</table>\n",
              "</div>"
            ],
            "text/plain": [
              "   Survived Cabin\n",
              "0         0   NaN\n",
              "1         1   C85\n",
              "2         1   NaN\n",
              "3         1  C123\n",
              "4         0   NaN"
            ]
          },
          "metadata": {},
          "execution_count": 6
        }
      ]
    },
    {
      "cell_type": "code",
      "metadata": {
        "id": "MZCAHGj34WpO"
      },
      "source": [
        "df[\"Cabin\"] = df[\"Cabin\"].fillna(\"Missing\")"
      ],
      "execution_count": 7,
      "outputs": []
    },
    {
      "cell_type": "code",
      "metadata": {
        "id": "BrWsno3x4e9i"
      },
      "source": [
        "## here the cabin column shows the cabin section and the number of  the seat etc, so whats important in this column is the cabin sections. so we can get\n",
        "## rid of the number after thecabin section"
      ],
      "execution_count": 8,
      "outputs": []
    },
    {
      "cell_type": "code",
      "metadata": {
        "id": "R23gzb6Y56nl"
      },
      "source": [
        "df[\"Cabin\"] = df[\"Cabin\"].astype(str).str[0]"
      ],
      "execution_count": 9,
      "outputs": []
    },
    {
      "cell_type": "code",
      "metadata": {
        "colab": {
          "base_uri": "https://localhost:8080/",
          "height": 359
        },
        "id": "A-qHPwkT6wuN",
        "outputId": "50379c36-f033-49d2-e6a0-bdd164c9d7d1"
      },
      "source": [
        "df.head(10)"
      ],
      "execution_count": 10,
      "outputs": [
        {
          "output_type": "execute_result",
          "data": {
            "text/html": [
              "<div>\n",
              "<style scoped>\n",
              "    .dataframe tbody tr th:only-of-type {\n",
              "        vertical-align: middle;\n",
              "    }\n",
              "\n",
              "    .dataframe tbody tr th {\n",
              "        vertical-align: top;\n",
              "    }\n",
              "\n",
              "    .dataframe thead th {\n",
              "        text-align: right;\n",
              "    }\n",
              "</style>\n",
              "<table border=\"1\" class=\"dataframe\">\n",
              "  <thead>\n",
              "    <tr style=\"text-align: right;\">\n",
              "      <th></th>\n",
              "      <th>Survived</th>\n",
              "      <th>Cabin</th>\n",
              "    </tr>\n",
              "  </thead>\n",
              "  <tbody>\n",
              "    <tr>\n",
              "      <th>0</th>\n",
              "      <td>0</td>\n",
              "      <td>M</td>\n",
              "    </tr>\n",
              "    <tr>\n",
              "      <th>1</th>\n",
              "      <td>1</td>\n",
              "      <td>C</td>\n",
              "    </tr>\n",
              "    <tr>\n",
              "      <th>2</th>\n",
              "      <td>1</td>\n",
              "      <td>M</td>\n",
              "    </tr>\n",
              "    <tr>\n",
              "      <th>3</th>\n",
              "      <td>1</td>\n",
              "      <td>C</td>\n",
              "    </tr>\n",
              "    <tr>\n",
              "      <th>4</th>\n",
              "      <td>0</td>\n",
              "      <td>M</td>\n",
              "    </tr>\n",
              "    <tr>\n",
              "      <th>5</th>\n",
              "      <td>0</td>\n",
              "      <td>M</td>\n",
              "    </tr>\n",
              "    <tr>\n",
              "      <th>6</th>\n",
              "      <td>0</td>\n",
              "      <td>E</td>\n",
              "    </tr>\n",
              "    <tr>\n",
              "      <th>7</th>\n",
              "      <td>0</td>\n",
              "      <td>M</td>\n",
              "    </tr>\n",
              "    <tr>\n",
              "      <th>8</th>\n",
              "      <td>1</td>\n",
              "      <td>M</td>\n",
              "    </tr>\n",
              "    <tr>\n",
              "      <th>9</th>\n",
              "      <td>1</td>\n",
              "      <td>M</td>\n",
              "    </tr>\n",
              "  </tbody>\n",
              "</table>\n",
              "</div>"
            ],
            "text/plain": [
              "   Survived Cabin\n",
              "0         0     M\n",
              "1         1     C\n",
              "2         1     M\n",
              "3         1     C\n",
              "4         0     M\n",
              "5         0     M\n",
              "6         0     E\n",
              "7         0     M\n",
              "8         1     M\n",
              "9         1     M"
            ]
          },
          "metadata": {},
          "execution_count": 10
        }
      ]
    },
    {
      "cell_type": "code",
      "metadata": {
        "colab": {
          "base_uri": "https://localhost:8080/"
        },
        "id": "4ZK3Gqd87EZM",
        "outputId": "1d8c0a1f-319b-42bf-a3f0-97c7f518dd56"
      },
      "source": [
        "df[\"Cabin\"].unique()"
      ],
      "execution_count": 11,
      "outputs": [
        {
          "output_type": "execute_result",
          "data": {
            "text/plain": [
              "array(['M', 'C', 'E', 'G', 'D', 'A', 'B', 'F', 'T'], dtype=object)"
            ]
          },
          "metadata": {},
          "execution_count": 11
        }
      ]
    },
    {
      "cell_type": "code",
      "metadata": {
        "colab": {
          "base_uri": "https://localhost:8080/"
        },
        "id": "z_bMdOz-45wt",
        "outputId": "7823284e-0776-46d7-8cd7-0d855eb007eb"
      },
      "source": [
        "df[\"Cabin\"].value_counts()"
      ],
      "execution_count": 12,
      "outputs": [
        {
          "output_type": "execute_result",
          "data": {
            "text/plain": [
              "M    687\n",
              "C     59\n",
              "B     47\n",
              "D     33\n",
              "E     32\n",
              "A     15\n",
              "F     13\n",
              "G      4\n",
              "T      1\n",
              "Name: Cabin, dtype: int64"
            ]
          },
          "metadata": {},
          "execution_count": 12
        }
      ]
    },
    {
      "cell_type": "code",
      "metadata": {
        "colab": {
          "base_uri": "https://localhost:8080/"
        },
        "id": "SVkqwjFO5F2D",
        "outputId": "92132c94-55e3-4832-bdba-a88fea87f19c"
      },
      "source": [
        "df.groupby(['Cabin'])['Survived'].mean()"
      ],
      "execution_count": 13,
      "outputs": [
        {
          "output_type": "execute_result",
          "data": {
            "text/plain": [
              "Cabin\n",
              "A    0.466667\n",
              "B    0.744681\n",
              "C    0.593220\n",
              "D    0.757576\n",
              "E    0.750000\n",
              "F    0.615385\n",
              "G    0.500000\n",
              "M    0.299854\n",
              "T    0.000000\n",
              "Name: Survived, dtype: float64"
            ]
          },
          "metadata": {},
          "execution_count": 13
        }
      ]
    },
    {
      "cell_type": "code",
      "metadata": {
        "colab": {
          "base_uri": "https://localhost:8080/"
        },
        "id": "8SL6wJhq7Ker",
        "outputId": "4609bb1e-995e-437f-c36f-952c806af4ec"
      },
      "source": [
        "df.groupby(['Cabin'])['Survived'].mean().sort_values().index"
      ],
      "execution_count": 14,
      "outputs": [
        {
          "output_type": "execute_result",
          "data": {
            "text/plain": [
              "Index(['T', 'M', 'A', 'G', 'C', 'F', 'B', 'E', 'D'], dtype='object', name='Cabin')"
            ]
          },
          "metadata": {},
          "execution_count": 14
        }
      ]
    },
    {
      "cell_type": "code",
      "metadata": {
        "colab": {
          "base_uri": "https://localhost:8080/"
        },
        "id": "NMR-83rY7ff7",
        "outputId": "2876eca6-2d61-4362-9fe1-97f3e1a80d77"
      },
      "source": [
        "ordinal_labels=df.groupby(['Cabin'])['Survived'].mean().sort_values().index\n",
        "ordinal_labels"
      ],
      "execution_count": 15,
      "outputs": [
        {
          "output_type": "execute_result",
          "data": {
            "text/plain": [
              "Index(['T', 'M', 'A', 'G', 'C', 'F', 'B', 'E', 'D'], dtype='object', name='Cabin')"
            ]
          },
          "metadata": {},
          "execution_count": 15
        }
      ]
    },
    {
      "cell_type": "code",
      "metadata": {
        "colab": {
          "base_uri": "https://localhost:8080/"
        },
        "id": "WOyXqWtq7ic6",
        "outputId": "1a26cd38-ec18-4910-8f53-be2b65144b85"
      },
      "source": [
        "enumerate(ordinal_labels,0)"
      ],
      "execution_count": 16,
      "outputs": [
        {
          "output_type": "execute_result",
          "data": {
            "text/plain": [
              "<enumerate at 0x7f7544e22050>"
            ]
          },
          "metadata": {},
          "execution_count": 16
        }
      ]
    },
    {
      "cell_type": "code",
      "metadata": {
        "colab": {
          "base_uri": "https://localhost:8080/"
        },
        "id": "hRzy9bRU7lxq",
        "outputId": "589d74d9-9af7-4060-91db-f36f19806a60"
      },
      "source": [
        "ordinal_labels2={k:i for i,k in enumerate(ordinal_labels,0)}\n",
        "ordinal_labels2\n"
      ],
      "execution_count": 17,
      "outputs": [
        {
          "output_type": "execute_result",
          "data": {
            "text/plain": [
              "{'A': 2, 'B': 6, 'C': 4, 'D': 8, 'E': 7, 'F': 5, 'G': 3, 'M': 1, 'T': 0}"
            ]
          },
          "metadata": {},
          "execution_count": 17
        }
      ]
    },
    {
      "cell_type": "code",
      "metadata": {
        "colab": {
          "base_uri": "https://localhost:8080/",
          "height": 204
        },
        "id": "R-o9mqTj7p-6",
        "outputId": "0366e161-571f-4eb9-bd5b-37f4fbbd6a4a"
      },
      "source": [
        "df['Cabin_ordinal_labels']=df['Cabin'].map(ordinal_labels2)\n",
        "df.head()"
      ],
      "execution_count": 19,
      "outputs": [
        {
          "output_type": "execute_result",
          "data": {
            "text/html": [
              "<div>\n",
              "<style scoped>\n",
              "    .dataframe tbody tr th:only-of-type {\n",
              "        vertical-align: middle;\n",
              "    }\n",
              "\n",
              "    .dataframe tbody tr th {\n",
              "        vertical-align: top;\n",
              "    }\n",
              "\n",
              "    .dataframe thead th {\n",
              "        text-align: right;\n",
              "    }\n",
              "</style>\n",
              "<table border=\"1\" class=\"dataframe\">\n",
              "  <thead>\n",
              "    <tr style=\"text-align: right;\">\n",
              "      <th></th>\n",
              "      <th>Survived</th>\n",
              "      <th>Cabin</th>\n",
              "      <th>Cabin_ordinal_labels</th>\n",
              "    </tr>\n",
              "  </thead>\n",
              "  <tbody>\n",
              "    <tr>\n",
              "      <th>0</th>\n",
              "      <td>0</td>\n",
              "      <td>M</td>\n",
              "      <td>1</td>\n",
              "    </tr>\n",
              "    <tr>\n",
              "      <th>1</th>\n",
              "      <td>1</td>\n",
              "      <td>C</td>\n",
              "      <td>4</td>\n",
              "    </tr>\n",
              "    <tr>\n",
              "      <th>2</th>\n",
              "      <td>1</td>\n",
              "      <td>M</td>\n",
              "      <td>1</td>\n",
              "    </tr>\n",
              "    <tr>\n",
              "      <th>3</th>\n",
              "      <td>1</td>\n",
              "      <td>C</td>\n",
              "      <td>4</td>\n",
              "    </tr>\n",
              "    <tr>\n",
              "      <th>4</th>\n",
              "      <td>0</td>\n",
              "      <td>M</td>\n",
              "      <td>1</td>\n",
              "    </tr>\n",
              "  </tbody>\n",
              "</table>\n",
              "</div>"
            ],
            "text/plain": [
              "   Survived Cabin  Cabin_ordinal_labels\n",
              "0         0     M                     1\n",
              "1         1     C                     4\n",
              "2         1     M                     1\n",
              "3         1     C                     4\n",
              "4         0     M                     1"
            ]
          },
          "metadata": {},
          "execution_count": 19
        }
      ]
    },
    {
      "cell_type": "code",
      "metadata": {
        "id": "WEyECQ_2B4lK"
      },
      "source": [
        "## kind off difficult to understand the code"
      ],
      "execution_count": null,
      "outputs": []
    },
    {
      "cell_type": "markdown",
      "metadata": {
        "id": "9LTMYnqiDl7r"
      },
      "source": [
        "## mean encoding"
      ]
    },
    {
      "cell_type": "markdown",
      "metadata": {
        "id": "Ms2JKKCDEJh4"
      },
      "source": [
        "just like target guided encoding , but here we replace it with the mean"
      ]
    },
    {
      "cell_type": "markdown",
      "metadata": {
        "id": "rYmKDuqADoeZ"
      },
      "source": [
        ""
      ]
    },
    {
      "cell_type": "code",
      "metadata": {
        "colab": {
          "base_uri": "https://localhost:8080/"
        },
        "id": "N8TW_TTTDn0g",
        "outputId": "c4a82f35-015e-4b0e-fdd4-9b7dc7636ae2"
      },
      "source": [
        "df.groupby(['Cabin'])['Survived'].mean()"
      ],
      "execution_count": 21,
      "outputs": [
        {
          "output_type": "execute_result",
          "data": {
            "text/plain": [
              "Cabin\n",
              "A    0.466667\n",
              "B    0.744681\n",
              "C    0.593220\n",
              "D    0.757576\n",
              "E    0.750000\n",
              "F    0.615385\n",
              "G    0.500000\n",
              "M    0.299854\n",
              "T    0.000000\n",
              "Name: Survived, dtype: float64"
            ]
          },
          "metadata": {},
          "execution_count": 21
        }
      ]
    },
    {
      "cell_type": "code",
      "metadata": {
        "id": "woAaiGt6EWn-"
      },
      "source": [
        "mean_ordinal = df.groupby(['Cabin'])['Survived'].mean().to_dict()"
      ],
      "execution_count": 22,
      "outputs": []
    },
    {
      "cell_type": "code",
      "metadata": {
        "colab": {
          "base_uri": "https://localhost:8080/",
          "height": 204
        },
        "id": "fahlkl9SEWby",
        "outputId": "faede92f-88e1-4a78-e9ca-ba94b943754b"
      },
      "source": [
        "df[\"mean_encode\"] = df[\"Cabin\"].map(mean_ordinal)\n",
        "df.head()"
      ],
      "execution_count": 23,
      "outputs": [
        {
          "output_type": "execute_result",
          "data": {
            "text/html": [
              "<div>\n",
              "<style scoped>\n",
              "    .dataframe tbody tr th:only-of-type {\n",
              "        vertical-align: middle;\n",
              "    }\n",
              "\n",
              "    .dataframe tbody tr th {\n",
              "        vertical-align: top;\n",
              "    }\n",
              "\n",
              "    .dataframe thead th {\n",
              "        text-align: right;\n",
              "    }\n",
              "</style>\n",
              "<table border=\"1\" class=\"dataframe\">\n",
              "  <thead>\n",
              "    <tr style=\"text-align: right;\">\n",
              "      <th></th>\n",
              "      <th>Survived</th>\n",
              "      <th>Cabin</th>\n",
              "      <th>Cabin_ordinal_labels</th>\n",
              "      <th>mean_encode</th>\n",
              "    </tr>\n",
              "  </thead>\n",
              "  <tbody>\n",
              "    <tr>\n",
              "      <th>0</th>\n",
              "      <td>0</td>\n",
              "      <td>M</td>\n",
              "      <td>1</td>\n",
              "      <td>0.299854</td>\n",
              "    </tr>\n",
              "    <tr>\n",
              "      <th>1</th>\n",
              "      <td>1</td>\n",
              "      <td>C</td>\n",
              "      <td>4</td>\n",
              "      <td>0.593220</td>\n",
              "    </tr>\n",
              "    <tr>\n",
              "      <th>2</th>\n",
              "      <td>1</td>\n",
              "      <td>M</td>\n",
              "      <td>1</td>\n",
              "      <td>0.299854</td>\n",
              "    </tr>\n",
              "    <tr>\n",
              "      <th>3</th>\n",
              "      <td>1</td>\n",
              "      <td>C</td>\n",
              "      <td>4</td>\n",
              "      <td>0.593220</td>\n",
              "    </tr>\n",
              "    <tr>\n",
              "      <th>4</th>\n",
              "      <td>0</td>\n",
              "      <td>M</td>\n",
              "      <td>1</td>\n",
              "      <td>0.299854</td>\n",
              "    </tr>\n",
              "  </tbody>\n",
              "</table>\n",
              "</div>"
            ],
            "text/plain": [
              "   Survived Cabin  Cabin_ordinal_labels  mean_encode\n",
              "0         0     M                     1     0.299854\n",
              "1         1     C                     4     0.593220\n",
              "2         1     M                     1     0.299854\n",
              "3         1     C                     4     0.593220\n",
              "4         0     M                     1     0.299854"
            ]
          },
          "metadata": {},
          "execution_count": 23
        }
      ]
    }
  ]
}